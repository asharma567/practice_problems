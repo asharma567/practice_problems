{
 "metadata": {
  "name": "",
  "signature": "sha256:a917d7c09cb367ee58107fc91dd2a0fc228148413fc7a9af4ebeb0749c322a03"
 },
 "nbformat": 3,
 "nbformat_minor": 0,
 "worksheets": [
  {
   "cells": [
    {
     "cell_type": "code",
     "collapsed": false,
     "input": [
      "!ls\n",
      "\n",
      "import pandas as pd\n",
      "import json"
     ],
     "language": "python",
     "metadata": {},
     "outputs": [
      {
       "output_type": "stream",
       "stream": "stdout",
       "text": [
        "Untitled0.ipynb      fib_n.py2            lowest_unique_int.py\r\n",
        "age_distribution.py  input.txt            swap_case.py\r\n",
        "capitalize_word.py   longest_word.py\r\n"
       ]
      }
     ],
     "prompt_number": 10
    },
    {
     "cell_type": "code",
     "collapsed": false,
     "input": [
      "import json\n",
      "\n",
      "def sum_ids_with_labels(list_of_dicts):\n",
      "   return sum([dict.get('id') for dict in list_of_dicts if dict and dict.get('label')])\n",
      "\n",
      "with open('input.txt') as f:\n",
      "    for i,line in enumerate(f):\n",
      "        input = line.strip()\n",
      "        if input:\n",
      "            JSON_obj = json.loads(line.strip())\n",
      "            nested_d = JSON_obj.get('menu').get('items')\n",
      "            print sum_ids_with_labels(nested_d)                "
     ],
     "language": "python",
     "metadata": {},
     "outputs": [
      {
       "output_type": "stream",
       "stream": "stdout",
       "text": [
        "46\n",
        "0\n",
        "248\n"
       ]
      }
     ],
     "prompt_number": 60
    },
    {
     "cell_type": "code",
     "collapsed": false,
     "input": [
      "s =[{u'id': 27}, {u'id': 0, u'label': u'Label 0'}, None, {u'id': 93}, {u'id': 85}, {u'id': 54}, None, {u'id': 46, u'label': u'Label 46'}]\n",
      "func(s)"
     ],
     "language": "python",
     "metadata": {},
     "outputs": [
      {
       "metadata": {},
       "output_type": "pyout",
       "prompt_number": 55,
       "text": [
        "46"
       ]
      }
     ],
     "prompt_number": 55
    },
    {
     "cell_type": "code",
     "collapsed": false,
     "input": [
      "from pandas.io.json import json_normalize\n",
      "def extract(df, l):\n",
      "    for e in l:\n",
      "        df = df[e]\n",
      "    return df\n",
      "\n",
      "pd.DataFrame.extract = extract\n",
      "\n",
      "with open('input.txt') as f:\n",
      "    for i,line in enumerate(f):\n",
      "        input = line.strip()\n",
      "        if input:\n",
      "            JSON_obj = json.loads(line.strip())\n",
      "            nested_d = JSON_obj.get('menu').get('items')\n",
      "            obj = json_normalize(JSON_obj)\n",
      "#             print pd.read_json(input).extract('menu')\n",
      "#             df = pd.DataFrame(JSON_obj)\n",
      "# df.ix['items']\n"
     ],
     "language": "python",
     "metadata": {},
     "outputs": [
      {
       "output_type": "stream",
       "stream": "stdout",
       "text": [
        "menu.header\n",
        "menu.items\n"
       ]
      }
     ],
     "prompt_number": 94
    },
    {
     "cell_type": "code",
     "collapsed": false,
     "input": [
      "s = '''\n",
      "Lorem ipsum dolor, sit amet. Mea et habeo doming praesent. Te inani utroque recteque has, sea ne fugit verterem!\n",
      "Usu ei scripta phaedrum, an sed ,salutatus definiebas? Qui ut recteque gloriatur reformidans. Qui solum aeque sapientem cu.\n",
      "Eu nam nusquam quaestio principes.\n",
      "'''\n"
     ],
     "language": "python",
     "metadata": {},
     "outputs": [],
     "prompt_number": 13
    },
    {
     "cell_type": "code",
     "collapsed": false,
     "input": [
      "from string import punctuation\n",
      "\n",
      "ending_punc = {'.', '!', '?'}\n",
      "ending_punc_ctr = 0\n",
      "position_ctr = 0\n",
      "\n",
      "lis = [\n",
      "', yeah!', \n",
      "', this is crazy, I tell ya.',\n",
      "', can U believe this?',\n",
      "', eh?',\n",
      "', aw yea.',\n",
      "', yo.',\n",
      "'? No way!',\n",
      "'. Awesome!'\n",
      "]\n",
      "output = []\n",
      "for char in s:\n",
      "    if char in ending_punc: \n",
      "        ending_punc_ctr += 1\n",
      "        #check if it's even i.e. every other\n",
      "        if ending_punc_ctr % 2 == 0:\n",
      "            output.append(lis [position_ctr % len(lis)])\n",
      "            position_ctr += 1\n",
      "        else:\n",
      "            output.append(char)\n",
      "    else:\n",
      "        output.append(char)\n",
      "print ''.join(output)"
     ],
     "language": "python",
     "metadata": {},
     "outputs": [
      {
       "output_type": "stream",
       "stream": "stdout",
       "text": [
        "\n",
        "Lorem ipsum dolor sit amet. Mea et habeo doming praesent, yeah! Te inani utroque recteque has, sea ne fugit verterem!\n",
        "Usu ei scripta phaedrum, an sed salutatus definiebas, this is crazy, I tell ya. Qui ut recteque gloriatur reformidans. Qui solum aeque sapientem cu, can U believe this?\n",
        "Eu nam nusquam quaestio principes.\n",
        "\n"
       ]
      }
     ],
     "prompt_number": 21
    },
    {
     "cell_type": "code",
     "collapsed": false,
     "input": [
      "ending_punc = {'.', '!', '?'}\n",
      "'thisis a sent.'[-1] in ending_punc"
     ],
     "language": "python",
     "metadata": {},
     "outputs": [
      {
       "metadata": {},
       "output_type": "pyout",
       "prompt_number": 22,
       "text": [
        "True"
       ]
      }
     ],
     "prompt_number": 22
    },
    {
     "cell_type": "code",
     "collapsed": false,
     "input": [
      "import nltk\n",
      "for sent in nltk.sent_tokenize(s):\n",
      "    sent.endswith('.')\n",
      "# nltk.download('punkt')"
     ],
     "language": "python",
     "metadata": {},
     "outputs": [],
     "prompt_number": 23
    },
    {
     "cell_type": "code",
     "collapsed": false,
     "input": [
      "str = 'Mea et habeo doming praesent.'\n",
      "str[:-1]\n"
     ],
     "language": "python",
     "metadata": {},
     "outputs": [
      {
       "metadata": {},
       "output_type": "pyout",
       "prompt_number": 1,
       "text": [
        "'Mea et habeo doming praesent'"
       ]
      }
     ],
     "prompt_number": 1
    },
    {
     "cell_type": "code",
     "collapsed": false,
     "input": [
      "s = '''\n",
      "776 a+bc\n",
      "'''"
     ],
     "language": "python",
     "metadata": {},
     "outputs": [],
     "prompt_number": 57
    },
    {
     "cell_type": "code",
     "collapsed": false,
     "input": [
      "numbers_string, pattern_string = s.split()\n",
      "\n",
      "addition = lambda x: int(x.split('+')[0]) + int(x.split('+')[1])\n",
      "subtraction = lambda x: int(x.split('-')[0]) - int(x.split('-')[1])\n",
      "division = lambda x: int(x.split('+')[0]) / int(x.split('+')[1])\n",
      "mod = lambda x: int(x.split('+')[0]) % int(x.split('+')[1])\n",
      "mult = lambda x: int(x.split('+')[0]) * int(x.split('+')[1])\n",
      "\n",
      "operator_strings = {\n",
      "'+' : addition,\n",
      "'-' : subtraction,\n",
      "'*' : mult,\n",
      "'%' : mod,\n",
      "'/' : division,\n",
      "}\n",
      "\n",
      "\n",
      "position = [(ltr, i) for i, ltr in enumerate(pattern_string) if ltr in operator_strings.keys()]\n",
      "position"
     ],
     "language": "python",
     "metadata": {},
     "outputs": [
      {
       "metadata": {},
       "output_type": "pyout",
       "prompt_number": 58,
       "text": [
        "[('+', 1)]"
       ]
      }
     ],
     "prompt_number": 58
    },
    {
     "cell_type": "code",
     "collapsed": false,
     "input": [
      "numbers_string_lis = list(numbers_string)\n",
      "for tup in position:\n",
      "    opr, pos = tup\n",
      "    numbers_string_lis.insert(pos, opr)\n",
      "\n",
      "\n",
      "for ltr in ''.join(numbers_string_lis):\n",
      "    if operator_strings.get(ltr, None):\n",
      "        print operator_strings[ltr](''.join(numbers_string_lis))\n",
      "    \n",
      "        \n",
      "    \n",
      "    "
     ],
     "language": "python",
     "metadata": {},
     "outputs": [
      {
       "output_type": "stream",
       "stream": "stdout",
       "text": [
        "83\n"
       ]
      }
     ],
     "prompt_number": 59
    },
    {
     "cell_type": "code",
     "collapsed": false,
     "input": [
      "print ('hello' + ' ') * 50"
     ],
     "language": "python",
     "metadata": {},
     "outputs": [
      {
       "output_type": "stream",
       "stream": "stdout",
       "text": [
        "hello hello hello hello hello hello hello hello hello hello hello hello hello hello hello hello hello hello hello hello hello hello hello hello hello hello hello hello hello hello hello hello hello hello hello hello hello hello hello hello hello hello hello hello hello hello hello hello hello hello \n"
       ]
      }
     ],
     "prompt_number": 62
    },
    {
     "cell_type": "code",
     "collapsed": false,
     "input": [
      "def number_to_sum_of_squares(number):\n",
      "    return sum([int(num)**2 for num in number])"
     ],
     "language": "python",
     "metadata": {},
     "outputs": [],
     "prompt_number": 9
    },
    {
     "cell_type": "code",
     "collapsed": false,
     "input": [
      "number_to_sum_of_squares('7')"
     ],
     "language": "python",
     "metadata": {},
     "outputs": [
      {
       "metadata": {},
       "output_type": "pyout",
       "prompt_number": 7,
       "text": [
        "49"
       ]
      }
     ],
     "prompt_number": 7
    },
    {
     "cell_type": "code",
     "collapsed": false,
     "input": [
      "s = '''\n",
      "325\n",
      "833\n",
      "382\n",
      "481\n",
      "630\n",
      "219\n",
      "708\n",
      "639\n",
      "934\n",
      "690\n",
      "806\n",
      "167\n",
      "816\n",
      "146\n",
      "208\n",
      "342\n",
      "256\n",
      "635\n",
      "964\n",
      "73\n",
      "'''\n",
      "lis = s.split()"
     ],
     "language": "python",
     "metadata": {},
     "outputs": [],
     "prompt_number": 8
    },
    {
     "cell_type": "code",
     "collapsed": false,
     "input": [
      "def check_if_happy(number_str):\n",
      "    x = int(number_str)\n",
      "    change = 0\n",
      "    last_gradient_direction = None\n",
      "\n",
      "    while x != 1:\n",
      "        cur_x = number_to_sum_of_squares(str(x))\n",
      "\n",
      "        #check for gradient\n",
      "        if cur_x > x: current_gradient_direction = 'upward_slope'\n",
      "        if cur_x < x: current_gradient_direction = 'downward_slope'\n",
      "\n",
      "        #check for change in gradient i.e. inflection points\n",
      "        if current_gradient_direction != last_gradient_direction:\n",
      "            change += 1\n",
      "        last_gradient_direction = current_gradient_direction\n",
      "\n",
      "         if change > 9: return False\n",
      "        x = cur_x\n",
      "\n",
      "    return True"
     ],
     "language": "python",
     "metadata": {},
     "outputs": [],
     "prompt_number": 32
    },
    {
     "cell_type": "code",
     "collapsed": false,
     "input": [
      "sum([int(check_if_happy(item)) for item in lis])"
     ],
     "language": "python",
     "metadata": {},
     "outputs": [
      {
       "metadata": {},
       "output_type": "pyout",
       "prompt_number": 33,
       "text": [
        "7"
       ]
      }
     ],
     "prompt_number": 33
    },
    {
     "cell_type": "code",
     "collapsed": false,
     "input": [
      "check_if_happy('325')"
     ],
     "language": "python",
     "metadata": {},
     "outputs": [
      {
       "ename": "NameError",
       "evalue": "name 'check_if_happy' is not defined",
       "output_type": "pyerr",
       "traceback": [
        "\u001b[0;31m---------------------------------------------------------------------------\u001b[0m\n\u001b[0;31mNameError\u001b[0m                                 Traceback (most recent call last)",
        "\u001b[0;32m<ipython-input-1-07ede8097a2e>\u001b[0m in \u001b[0;36m<module>\u001b[0;34m()\u001b[0m\n\u001b[0;32m----> 1\u001b[0;31m \u001b[0mcheck_if_happy\u001b[0m\u001b[0;34m(\u001b[0m\u001b[0;34m'325'\u001b[0m\u001b[0;34m)\u001b[0m\u001b[0;34m\u001b[0m\u001b[0m\n\u001b[0m",
        "\u001b[0;31mNameError\u001b[0m: name 'check_if_happy' is not defined"
       ]
      }
     ],
     "prompt_number": 1
    },
    {
     "cell_type": "code",
     "collapsed": false,
     "input": [
      "def check_this_line(line_str):\n",
      "    subj_line, end = line_str.strip().split(',')\n",
      "    return int(subj_line[-len(end):] == end)\n",
      "#     return int(' '.join(subj_line.split()[-len(end.split()):]) == end)"
     ],
     "language": "python",
     "metadata": {},
     "outputs": [],
     "prompt_number": 21
    },
    {
     "cell_type": "code",
     "collapsed": false,
     "input": [],
     "language": "python",
     "metadata": {},
     "outputs": []
    },
    {
     "cell_type": "code",
     "collapsed": false,
     "input": [
      "s = '''\n",
      "QueryRow 10\n",
      "'''\n",
      "\n",
      "input = s.split()\n",
      "\n",
      "if len(input) == 3:\n",
      "    set_command, index_str, value_str = input\n",
      "    index = int(index_str)\n",
      "    value = int(value_str)\n",
      "elif len(input) == 2:\n",
      "    set_command, index_str = input\n",
      "    index = int(index_str)\n",
      "else:\n",
      "    raise ValueError\n",
      "\n",
      "if set_command == 'SetCol': set_col(index, value)\n",
      "if set_command == 'SetRow': set_row(index, value)\n",
      "if set_command == 'QueryRow': print query_row(index)\n",
      "if set_command == 'QueryCol': print query_col(index)\n",
      "    "
     ],
     "language": "python",
     "metadata": {},
     "outputs": [
      {
       "output_type": "stream",
       "stream": "stdout",
       "text": [
        "34\n"
       ]
      }
     ],
     "prompt_number": 84
    },
    {
     "cell_type": "code",
     "collapsed": false,
     "input": [
      "\n",
      "if set_command == 'QueryCol': print query_col(index)"
     ],
     "language": "python",
     "metadata": {},
     "outputs": [
      {
       "output_type": "stream",
       "stream": "stdout",
       "text": [
        "5118\n"
       ]
      }
     ],
     "prompt_number": 82
    },
    {
     "cell_type": "code",
     "collapsed": false,
     "input": [
      "def set_row(row_index, value):\n",
      "    Matrix[row_index] = map(lambda x: value, Matrix[row_index])\n",
      "    return None\n",
      "\n",
      "def set_col(col_index, value):\n",
      "    for row in Matrix:\n",
      "        row[col_index] = value\n",
      "    return None\n",
      "\n",
      "def query_row(row_index):\n",
      "    return sum(Matrix[row_index])\n",
      "\n",
      "def query_col(col_index):\n",
      "    return sum([row[col_index] for row in Matrix])\n",
      "\n",
      "    \n",
      "\n",
      "#initialize matrix\n",
      "Matrix = [[0 for x in xrange(256)] for x in xrange(256)] \n"
     ],
     "language": "python",
     "metadata": {},
     "outputs": [],
     "prompt_number": 75
    },
    {
     "cell_type": "code",
     "collapsed": false,
     "input": [
      "sum([sum(Matrix[i]) for i in range(len(Matrix))])"
     ],
     "language": "python",
     "metadata": {},
     "outputs": [
      {
       "metadata": {},
       "output_type": "pyout",
       "prompt_number": 68,
       "text": [
        "256"
       ]
      }
     ],
     "prompt_number": 68
    },
    {
     "cell_type": "code",
     "collapsed": false,
     "input": [
      "import numpy as np"
     ],
     "language": "python",
     "metadata": {},
     "outputs": [],
     "prompt_number": 86
    },
    {
     "cell_type": "code",
     "collapsed": false,
     "input": [
      "M = np.zeros((256,256))"
     ],
     "language": "python",
     "metadata": {},
     "outputs": [],
     "prompt_number": 93
    },
    {
     "cell_type": "code",
     "collapsed": false,
     "input": [
      "M[1][2] = 1\n",
      "M[1][2]"
     ],
     "language": "python",
     "metadata": {},
     "outputs": [
      {
       "metadata": {},
       "output_type": "pyout",
       "prompt_number": 98,
       "text": [
        "1.0"
       ]
      }
     ],
     "prompt_number": 98
    },
    {
     "cell_type": "code",
     "collapsed": false,
     "input": [
      "M[0] = 1\n",
      "M[:,7] =1"
     ],
     "language": "python",
     "metadata": {},
     "outputs": [],
     "prompt_number": 108
    },
    {
     "cell_type": "code",
     "collapsed": false,
     "input": [
      "sent  = '''\n",
      "Tom exhibited.\n",
      "Amy Lawrence was proud and glad, and she tried to make Tom see it in her face - but he wouldn't look.\n",
      "Tom was tugging at a button-hole and looking sheepish.\n",
      "Two thousand verses is a great many - very, very great many.\n",
      "Tom's mouth watered for the apple, but he stuck to his work.\n",
      "'''    "
     ],
     "language": "python",
     "metadata": {},
     "outputs": [],
     "prompt_number": 8
    },
    {
     "cell_type": "code",
     "collapsed": false,
     "input": [
      "filtering_without_newline = [sent.strip('\\n') for sent in sent.split('.')]\n",
      "\n",
      "filtering_without_newline"
     ],
     "language": "python",
     "metadata": {},
     "outputs": [
      {
       "metadata": {},
       "output_type": "pyout",
       "prompt_number": 9,
       "text": [
        "['Tom exhibited',\n",
        " \"Amy Lawrence was proud and glad, and she tried to make Tom see it in her face - but he wouldn't look\",\n",
        " 'Tom was tugging at a button-hole and looking sheepish',\n",
        " 'Two thousand verses is a great many - very, very great many',\n",
        " \"Tom's mouth watered for the apple, but he stuck to his work\",\n",
        " '']"
       ]
      }
     ],
     "prompt_number": 9
    },
    {
     "cell_type": "code",
     "collapsed": false,
     "input": [
      "def sentence_trimmer(file_name):\n",
      "    filtering_without_newline = [sent.strip('\\n') for sent in file_name.split('.')]\n",
      "    for sent in filtering_without_newline:\n",
      "        if len(sent) <= 55:\n",
      "            print sent\n",
      "        else:\n",
      "            first_trimmed = sent[:40]\n",
      "\n",
      "            # check if there are spaces\n",
      "            if ' ' in first_trimmed:\n",
      "\n",
      "                # find the last space\n",
      "                last_space = max([position for position, char in enumerate(first_trimmed) if char == ' '])\n",
      "                print first_trimmed[:last_space] + '... <Read More>'"
     ],
     "language": "python",
     "metadata": {},
     "outputs": [],
     "prompt_number": 30
    },
    {
     "cell_type": "code",
     "collapsed": false,
     "input": [
      "s = \"Amy Lawrence was proud and glad, and she\""
     ],
     "language": "python",
     "metadata": {},
     "outputs": [
      {
       "metadata": {},
       "output_type": "pyout",
       "prompt_number": 23,
       "text": [
        "' '"
       ]
      }
     ],
     "prompt_number": 23
    },
    {
     "cell_type": "code",
     "collapsed": false,
     "input": [
      "data = [959, 885, 657, 275, 821, 712, 971, 724, 476, 147, 39, 222, 385, 625, 609, 424, 339, 819, 569, 120, 454, 556, 200, 346, 300, 254, 278, 262, 676, 603, 239, 786, 599, 92, 246, 683, 552, 336, 57, 370, 883, 293, 203, 303, 276, 357, 131, 201, 744, 30]    "
     ],
     "language": "python",
     "metadata": {},
     "outputs": [],
     "prompt_number": 31
    },
    {
     "cell_type": "code",
     "collapsed": false,
     "input": [
      "data.mean()"
     ],
     "language": "python",
     "metadata": {},
     "outputs": [
      {
       "ename": "AttributeError",
       "evalue": "'list' object has no attribute 'mean'",
       "output_type": "pyerr",
       "traceback": [
        "\u001b[0;31m---------------------------------------------------------------------------\u001b[0m\n\u001b[0;31mAttributeError\u001b[0m                            Traceback (most recent call last)",
        "\u001b[0;32m<ipython-input-33-ec70bbc519c6>\u001b[0m in \u001b[0;36m<module>\u001b[0;34m()\u001b[0m\n\u001b[0;32m----> 1\u001b[0;31m \u001b[0mdata\u001b[0m\u001b[0;34m.\u001b[0m\u001b[0mmean\u001b[0m\u001b[0;34m(\u001b[0m\u001b[0;34m)\u001b[0m\u001b[0;34m\u001b[0m\u001b[0m\n\u001b[0m",
        "\u001b[0;31mAttributeError\u001b[0m: 'list' object has no attribute 'mean'"
       ]
      }
     ],
     "prompt_number": 33
    },
    {
     "cell_type": "code",
     "collapsed": false,
     "input": [
      "map(int, ['2'])"
     ],
     "language": "python",
     "metadata": {},
     "outputs": [
      {
       "metadata": {},
       "output_type": "pyout",
       "prompt_number": 3,
       "text": [
        "[2]"
       ]
      }
     ],
     "prompt_number": 3
    },
    {
     "cell_type": "code",
     "collapsed": false,
     "input": [
      "lis= ['8', '6', '4', '4', '10', '4', '6', '7', '5', '1', '1', '3', '9', '9', '10', '5', '9', '6', '10', '4', '']"
     ],
     "language": "python",
     "metadata": {},
     "outputs": [],
     "prompt_number": 4
    },
    {
     "cell_type": "code",
     "collapsed": false,
     "input": [
      "lis[:-1]"
     ],
     "language": "python",
     "metadata": {},
     "outputs": [
      {
       "metadata": {},
       "output_type": "pyout",
       "prompt_number": 7,
       "text": [
        "['8',\n",
        " '6',\n",
        " '4',\n",
        " '4',\n",
        " '10',\n",
        " '4',\n",
        " '6',\n",
        " '7',\n",
        " '5',\n",
        " '1',\n",
        " '1',\n",
        " '3',\n",
        " '9',\n",
        " '9',\n",
        " '10',\n",
        " '5',\n",
        " '9',\n",
        " '6',\n",
        " '10',\n",
        " '4']"
       ]
      }
     ],
     "prompt_number": 7
    },
    {
     "cell_type": "code",
     "collapsed": false,
     "input": [
      "s = '''\n",
      "Tom exhibited!\n",
      "Amy Lawrence was proud and glad, and she tried to make Tom see it in her face - but he wouldn't look.\n",
      "Tom was tugging at a button-hole and looking sheepish?\n",
      "Two thousand verses is a great many - very, very great many.\n",
      "Tom's mouth watered for the apple, but he stuck to his work.\n",
      "'''\n",
      "s.split('.')"
     ],
     "language": "python",
     "metadata": {},
     "outputs": [
      {
       "metadata": {},
       "output_type": "pyout",
       "prompt_number": 20,
       "text": [
        "[\"\\nTom exhibited!\\nAmy Lawrence was proud and glad, and she tried to make Tom see it in her face - but he wouldn't look.\\nTom was tugging at a button-hole and looking sheepish?\\nTwo thousand verses is a great many - very, very great many.\\nTom's mouth watered for the apple, but he stuck to his work.\\n\"]"
       ]
      }
     ],
     "prompt_number": 20
    },
    {
     "cell_type": "code",
     "collapsed": false,
     "input": [
      "# . and !\n",
      "lis = [i.split('!') for i in s.split('.')]\n",
      "\n",
      "#unpack\n",
      "unpacked_list = reduce(lambda x, y: x + y, lis)\n",
      "\n",
      "#split again on ?\n",
      "reduce(lambda x, y: x + y, [string.split('?') for string in unpacked_list])"
     ],
     "language": "python",
     "metadata": {},
     "outputs": [
      {
       "metadata": {},
       "output_type": "pyout",
       "prompt_number": 32,
       "text": [
        "['\\nTom exhibited',\n",
        " \"\\nAmy Lawrence was proud and glad, and she tried to make Tom see it in her face - but he wouldn't look\",\n",
        " '\\nTom was tugging at a button-hole and looking sheepish',\n",
        " '\\nTwo thousand verses is a great many - very, very great many',\n",
        " \"\\nTom's mouth watered for the apple, but he stuck to his work\",\n",
        " '\\n']"
       ]
      }
     ],
     "prompt_number": 32
    },
    {
     "cell_type": "code",
     "collapsed": false,
     "input": [
      "import re\n",
      "\n",
      "re.search(r'[.|,|]')"
     ],
     "language": "python",
     "metadata": {},
     "outputs": [
      {
       "ename": "TypeError",
       "evalue": "search() takes at least 2 arguments (1 given)",
       "output_type": "pyerr",
       "traceback": [
        "\u001b[0;31m---------------------------------------------------------------------------\u001b[0m\n\u001b[0;31mTypeError\u001b[0m                                 Traceback (most recent call last)",
        "\u001b[0;32m<ipython-input-27-ee03615a71db>\u001b[0m in \u001b[0;36m<module>\u001b[0;34m()\u001b[0m\n\u001b[1;32m      1\u001b[0m \u001b[0;32mimport\u001b[0m \u001b[0mre\u001b[0m\u001b[0;34m\u001b[0m\u001b[0m\n\u001b[1;32m      2\u001b[0m \u001b[0;34m\u001b[0m\u001b[0m\n\u001b[0;32m----> 3\u001b[0;31m \u001b[0mre\u001b[0m\u001b[0;34m.\u001b[0m\u001b[0msearch\u001b[0m\u001b[0;34m(\u001b[0m\u001b[0;34mr'[.|,|]'\u001b[0m\u001b[0;34m)\u001b[0m\u001b[0;34m\u001b[0m\u001b[0m\n\u001b[0m",
        "\u001b[0;31mTypeError\u001b[0m: search() takes at least 2 arguments (1 given)"
       ]
      }
     ],
     "prompt_number": 27
    },
    {
     "cell_type": "code",
     "collapsed": false,
     "input": [],
     "language": "python",
     "metadata": {},
     "outputs": [],
     "prompt_number": 4
    },
    {
     "cell_type": "code",
     "collapsed": false,
     "input": [
      "print sort_numbers([1,2,3,-6])"
     ],
     "language": "python",
     "metadata": {},
     "outputs": [
      {
       "output_type": "stream",
       "stream": "stdout",
       "text": [
        "[-6, 1, 2, 3]\n"
       ]
      }
     ],
     "prompt_number": 5
    },
    {
     "cell_type": "code",
     "collapsed": false,
     "input": [
      "def insert_sort(input_list):\n",
      "\t\n",
      "\tfor index in range(1, len(input_list)):\n",
      "\t\ttrailing_index = index - 1\n",
      "\t\tvalue_before_target = input_list[trailing_index]\n",
      "\t\ttarget_value = input_list[index]\n",
      "\n",
      "\t\twhile trailing_index > 0 and value_before_target > target_value:\n",
      "\t\t\tinput_list[trailing_index + 1] = value_before_target\n",
      "\t\t\ttrailing_index -= 1\n",
      "\n",
      "\t\tinput_list[trailing_index + 1] = target_value\n",
      "\n",
      "\treturn input_list\n"
     ],
     "language": "python",
     "metadata": {},
     "outputs": [],
     "prompt_number": 128
    },
    {
     "cell_type": "code",
     "collapsed": false,
     "input": [
      "def sort_numbers(s):\n",
      "    for i in range(1, len(s)):\n",
      "        val = s[i]\n",
      "        j = i - 1\n",
      "        while (j >= 0) and (s[j] > val):\n",
      "            s[j+1] = s[j]\n",
      "            j = j - 1\n",
      "        s[j+1] = val\n"
     ],
     "language": "python",
     "metadata": {},
     "outputs": [
      {
       "metadata": {},
       "output_type": "pyout",
       "prompt_number": 129,
       "text": [
        "[-6, 1, 2, 3]"
       ]
      }
     ],
     "prompt_number": 129
    },
    {
     "cell_type": "code",
     "collapsed": false,
     "input": [
      "def quick_sort(input_list):\n",
      "\t\n",
      "\tless = []\n",
      "\tgreater = []\n",
      "\tequivalent = []\n",
      "\n",
      "\tif len(input_list) > 1:\n",
      "\n",
      "\t\t#first element of the input_list is a pivot\n",
      "\t\tpivot = input_list[0]\n",
      "\n",
      "\t\tfor number in input_list:\n",
      "\t\t\tif number > pivot:\n",
      "\t\t\t\tgreater.append(number)\n",
      "\t\t\telif number < pivot:\n",
      "\t\t\t\tless.append(number)\n",
      "\t\t\telif number == pivot:\n",
      "\t\t\t\tequivalent.append(number)\n",
      "\n",
      "\t\treturn quick_sort(less) + equivalent + quick_sort(greater)\n",
      "\n",
      "\telse:\n",
      "\n",
      "\t\treturn input_list"
     ],
     "language": "python",
     "metadata": {},
     "outputs": [],
     "prompt_number": 26
    },
    {
     "cell_type": "code",
     "collapsed": false,
     "input": [
      "quick_sort([1,2,3,-6])"
     ],
     "language": "python",
     "metadata": {},
     "outputs": [
      {
       "metadata": {},
       "output_type": "pyout",
       "prompt_number": 28,
       "text": [
        "[-6, 1, 2, 3]"
       ]
      }
     ],
     "prompt_number": 28
    },
    {
     "cell_type": "code",
     "collapsed": false,
     "input": [
      "def bubble_sort(input_list):\n",
      "    \n",
      "    sorted = False\n",
      "\n",
      "    while not sorted:\n",
      "        sorted = True\n",
      "        for i in range(len(input_list) - 1):\n",
      "            if input_list[i]  > input_list[i + 1]:\n",
      "                sorted = False\n",
      "                input_list[i], input_list[i + 1] = input_list[i + 1], input_list[i]\n",
      "        \n",
      "    return input_list\n"
     ],
     "language": "python",
     "metadata": {},
     "outputs": [],
     "prompt_number": 62
    },
    {
     "cell_type": "code",
     "collapsed": false,
     "input": [
      "bubble_sort([1,2,3,-6])\n"
     ],
     "language": "python",
     "metadata": {},
     "outputs": [
      {
       "metadata": {},
       "output_type": "pyout",
       "prompt_number": 63,
       "text": [
        "[-6, 1, 2, 3]"
       ]
      }
     ],
     "prompt_number": 63
    },
    {
     "cell_type": "code",
     "collapsed": false,
     "input": [
      "def bubble(bad_list):\n",
      "    length = len(bad_list) - 1\n",
      "    sorted = False\n",
      "\n",
      "    while not sorted:\n",
      "        sorted = True\n",
      "        for i in range(length):\n",
      "            if bad_list[i] > bad_list[i+1]:\n",
      "                sorted = False\n",
      "                bad_list[i], bad_list[i+1] = bad_list[i+1], bad_list[i]\n",
      "    return bad_list"
     ],
     "language": "python",
     "metadata": {},
     "outputs": [],
     "prompt_number": 94
    },
    {
     "cell_type": "code",
     "collapsed": false,
     "input": [
      "bubble([1,2,3,-6])"
     ],
     "language": "python",
     "metadata": {},
     "outputs": [
      {
       "metadata": {},
       "output_type": "pyout",
       "prompt_number": 95,
       "text": [
        "[-6, 1, 2, 3]"
       ]
      }
     ],
     "prompt_number": 95
    },
    {
     "cell_type": "code",
     "collapsed": false,
     "input": [
      "lambda x: \"{0:.3f}\".format(x)"
     ],
     "language": "python",
     "metadata": {},
     "outputs": [
      {
       "metadata": {},
       "output_type": "pyout",
       "prompt_number": 68,
       "text": [
        "<function __main__.<lambda>>"
       ]
      }
     ],
     "prompt_number": 68
    },
    {
     "cell_type": "code",
     "collapsed": false,
     "input": [],
     "language": "python",
     "metadata": {},
     "outputs": []
    },
    {
     "cell_type": "code",
     "collapsed": false,
     "input": [],
     "language": "python",
     "metadata": {},
     "outputs": []
    }
   ],
   "metadata": {}
  }
 ]
}