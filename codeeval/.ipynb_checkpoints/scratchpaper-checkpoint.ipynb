{
 "metadata": {
  "name": "",
  "signature": "sha256:0f8266cfbaf5c55cc7ed1fdf63ee2c72fa4125f356100ce58340add699b56432"
 },
 "nbformat": 3,
 "nbformat_minor": 0,
 "worksheets": [
  {
   "cells": [
    {
     "cell_type": "code",
     "collapsed": false,
     "input": [],
     "language": "python",
     "metadata": {},
     "outputs": [],
     "prompt_number": 37
    },
    {
     "cell_type": "code",
     "collapsed": false,
     "input": [
      "parens_dict = {\n",
      "'(':')'\n",
      "}\n",
      "\n",
      "smiley_dict = {\n",
      "':':['(',')']\n",
      "}\n",
      "\n",
      "seq_closed_parent_cnt, potential_smiley_cnt, open_parent_cnt, closed_parent_cnt = 0, 0, 0, 0\n",
      "\n",
      "def checker(s):\n",
      "\n",
      "    for i, char in enumerate(s):\n",
      "        #check emoticon\n",
      "        if potential_smiley_cnt:\n",
      "            #check special case '(:)'\n",
      "            if s[i - 2] + s[i - 1] + char == '(:)':\n",
      "                if char in smiley_dict[':']: \n",
      "                    potential_smiley_cnt = 0\n",
      "                    open_parent_cnt -= 1\n",
      "                    closed_parent_cnt -= 1\n",
      "            else:\n",
      "                potential_smiley_cnt = 0\n",
      "                continue\n",
      "\n",
      "        if smiley_dict.get(char, None):\n",
      "            potential_smiley_cnt = 1\n",
      "\n",
      "        #check open parenthesis\n",
      "        if parens_dict.get(char, None): \n",
      "            open_parent_cnt += 1\n",
      "\n",
      "        #if there's an existing open parenthesis, \n",
      "        #check for an existing close\n",
      "        if open_parent_cnt:\n",
      "            if char == parens_dict['(']: seq_closed_parent_cnt += 1\n",
      "\n",
      "        if char == parens_dict['(']: closed_parent_cnt += 1\n",
      "\n",
      "    #CHECKS\n",
      "\n",
      "    #do we have a closed parenthesis for every open?\n",
      "    total_count = open_parent_cnt - closed_parent_cnt\n",
      "\n",
      "    #Is it in sequence of openner then closer?\n",
      "    sequential_total_count = open_parent_cnt - seq_closed_parent_cnt\n",
      "\n",
      "    #check if imbalance: negatives implies more close parens than open\n",
      "    if total_count != 0 or sequential_total_count != 0: \n",
      "        return False\n",
      "    else:\n",
      "        return True"
     ],
     "language": "python",
     "metadata": {},
     "outputs": [
      {
       "output_type": "stream",
       "stream": "stdout",
       "text": [
        "YES\n"
       ]
      }
     ],
     "prompt_number": 67
    },
    {
     "cell_type": "code",
     "collapsed": false,
     "input": [
      "s = 'hacker cup: started :):)'"
     ],
     "language": "python",
     "metadata": {},
     "outputs": [],
     "prompt_number": 66
    },
    {
     "cell_type": "code",
     "collapsed": false,
     "input": [],
     "language": "python",
     "metadata": {},
     "outputs": []
    }
   ],
   "metadata": {}
  }
 ]
}